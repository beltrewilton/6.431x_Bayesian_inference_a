{
  "nbformat": 4,
  "nbformat_minor": 0,
  "metadata": {
    "kernelspec": {
      "display_name": "Python 3",
      "language": "python",
      "name": "python3"
    },
    "language_info": {
      "codemirror_mode": {
        "name": "ipython",
        "version": 3
      },
      "file_extension": ".py",
      "mimetype": "text/x-python",
      "name": "python",
      "nbconvert_exporter": "python",
      "pygments_lexer": "ipython3",
      "version": "3.6.8"
    },
    "colab": {
      "name": "lec14.ipynb",
      "provenance": []
    }
  },
  "cells": [
    {
      "cell_type": "code",
      "metadata": {
        "colab": {
          "base_uri": "https://localhost:8080/"
        },
        "id": "OuPgmbhm5_xA",
        "outputId": "bce9be96-1ea6-43b6-8dbc-261e57de27cb"
      },
      "source": [
        "import pandas as pd\n",
        "import numpy as np\n",
        "import platform\n",
        "\n",
        "print(platform.python_version())"
      ],
      "execution_count": 2,
      "outputs": [
        {
          "output_type": "stream",
          "text": [
            "3.7.10\n"
          ],
          "name": "stdout"
        }
      ]
    },
    {
      "cell_type": "markdown",
      "metadata": {
        "id": "aKtNgqyk7JCv"
      },
      "source": [
        "$p | X (\\Theta | x) = \\frac{ p\\Theta(\\theta)pX|\\Theta(x|\\theta)} {pX(x)}$\n"
      ]
    }
  ]
}